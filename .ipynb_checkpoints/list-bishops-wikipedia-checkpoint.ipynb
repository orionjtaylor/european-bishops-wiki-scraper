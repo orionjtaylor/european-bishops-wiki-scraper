{
 "cells": [
  {
   "cell_type": "markdown",
   "metadata": {},
   "source": [
    "### Bishop Data Collection Automation Framework\n",
    "\n",
    "This notebook provides a basic framework for scraping the relevant data from Wikipedia pages where those pages include lists of bishops for specific dioceses. It can collect from a few basic list formats, but it may not work well with tables or other data sources. As I try to run it on more pages I will try to expand its scope to account for these.\n",
    "\n",
    "Note: The final collection function takes a 'path' argument to enable the selenium webdriver; this path is generally something like '/Users/*yourname*/Downloads/chromedriver'."
   ]
  },
  {
   "cell_type": "markdown",
   "metadata": {},
   "source": [
    "#### *CURRENT ISSUES*\n",
    "\n",
    "1. There is a character limit on the Google Translate package, so English translations of longer biographies are excluded (looking into additional solutions)\n",
    "\n",
    "2. The binary 'Archbishop' indicator is going to be a manual operation for now (looking into additional solutions)"
   ]
  },
  {
   "cell_type": "markdown",
   "metadata": {},
   "source": [
    "#### Section I: Definition of Functions"
   ]
  },
  {
   "cell_type": "code",
   "execution_count": 1,
   "metadata": {},
   "outputs": [],
   "source": [
    "# Package import cell\n",
    "import re\n",
    "import pandas as pd\n",
    "import numpy as np\n",
    "import selenium\n",
    "from selenium import webdriver\n",
    "from bs4 import BeautifulSoup\n",
    "from requests import get\n",
    "from googletrans import Translator\n",
    "translator = Translator()"
   ]
  },
  {
   "cell_type": "code",
   "execution_count": 2,
   "metadata": {},
   "outputs": [],
   "source": [
    "# Define function to collect data from well-defined list Wikis and store in dictionary\n",
    "def list_collector(path, url):\n",
    "    primary_url = url\n",
    "    driver = webdriver.Chrome(executable_path = path)\n",
    "    driver.get(primary_url)\n",
    "    html = driver.page_source\n",
    "    soup = BeautifulSoup(html, 'html.parser')\n",
    "    driver.close()\n",
    "    body = soup.find('div', {'class': 'mw-parser-output'})    \n",
    "    soup_bishops = body.findChildren('li')\n",
    "    bishops_with_links = {}\n",
    "    for bishop in soup_bishops:\n",
    "        if bishop.a:\n",
    "            bishops_with_links[bishop.text] = 'https://de.wikipedia.org' + bishop.a.get('href')\n",
    "        else:\n",
    "            bishops_with_links[bishop.text] = ''\n",
    "    for bishop, link in bishops_with_links.items():\n",
    "        if (('redlink' in link) | ('index' in link) | ('#' in link)):\n",
    "            bishops_with_links[bishop] = ''\n",
    "    return bishops_with_links"
   ]
  },
  {
   "cell_type": "code",
   "execution_count": 3,
   "metadata": {},
   "outputs": [],
   "source": [
    "# Define function to set up dataframe, pull in dictionary and clean\n",
    "def dataframer(dictionary):\n",
    "    bishops = pd.DataFrame()\n",
    "    bishops['Name'] = dictionary.keys()\n",
    "    bishops['Name'] = bishops['Name'].apply(cleaner)\n",
    "    bishops = pd.DataFrame(bishops['Name'].str.split(':').tolist(), columns = ['Name','From', 'To'])\n",
    "    bishops['From'] = bishops['From'].astype(str)\n",
    "    bishops['To'] = bishops['To'].astype(str)\n",
    "    bishops['Bio Link'] = dictionary.values()\n",
    "    bishops = bishops[(~bishops['From'].str.startswith('17')) & (~bishops['From'].str.startswith('18')) \n",
    "                      & (~bishops['From'].str.startswith('19')) & (~bishops['From'].str.startswith('2')) \n",
    "                      & (~bishops['From'].str.startswith('None')) & (~bishops['To'].str.startswith('None'))\n",
    "                      & (~bishops['To'].str.startswith('18')) & (~bishops['To'].str.startswith('19'))\n",
    "                      & (~bishops['To'].str.startswith('2')) & (~bishops['From'].str.contains('\\.'))]\n",
    "    bishops = bishops[(bishops['To'] != '') | (bishops['From'] != '') | (bishops['Bio Link'] != '')]\n",
    "    if bishops['To'].str.startswith('17').any():\n",
    "        bishops = bishops.loc[: bishops[(bishops['To'].str.startswith('17'))].index[0], :]\n",
    "    return bishops"
   ]
  },
  {
   "cell_type": "code",
   "execution_count": 4,
   "metadata": {},
   "outputs": [],
   "source": [
    "# Define function to clean bishop data string and return name, year in, year out\n",
    "def cleaner(string):\n",
    "    years = ''\n",
    "    year_in = ''\n",
    "    year_out = ''\n",
    "    string = string.replace('ca. ', '').replace('um ', '').replace('seit ', '')\n",
    "    string = string.replace(' –', '–')\n",
    "    string = string.replace('– ', '–')\n",
    "    string = string.replace('- ', '–')\n",
    "    string = string.replace(' -', '–')\n",
    "    string = string.replace('0000', '–')\n",
    "    string = string.replace(':', '')\n",
    "    string = string.replace('vakant', 'Vacant')\n",
    "    string = string.replace('(', '')\n",
    "    string = string.replace(')', '')\n",
    "    string = string.replace('[', ' ')\n",
    "    string = string.replace(']', ' ')\n",
    "    string = string.replace('erwähnt', '')\n",
    "    string = string.replace('genannt', '')\n",
    "    string = string.replace('mellem', '')\n",
    "    strings = string.split(' ')\n",
    "    for string in strings:\n",
    "        for char in string:\n",
    "            if char.isdigit():\n",
    "                years = string\n",
    "                if len(years) < 3:\n",
    "                    years = ''\n",
    "                if '–' in years:    \n",
    "                    year_elements = years.split('–')\n",
    "                    year_in = year_elements[0]\n",
    "                    year_out = year_elements[1]\n",
    "                else:\n",
    "                    year_in = years\n",
    "                    year_out = ''\n",
    "                strings.remove(string)\n",
    "                break\n",
    "    name = ' '.join(strings)\n",
    "    strings = str(name)+':'+str(year_in)+':'+str(year_out)\n",
    "    return strings"
   ]
  },
  {
   "cell_type": "code",
   "execution_count": 5,
   "metadata": {},
   "outputs": [],
   "source": [
    "# Define function to process available links and collect biographies in dataframe\n",
    "def bio_collector(path, dataframe):\n",
    "    bio_list = []\n",
    "    for link in dataframe['Bio Link']:\n",
    "        if link != '':\n",
    "            driver = webdriver.Chrome(executable_path = path)\n",
    "            driver.get(link)\n",
    "            html = driver.page_source\n",
    "            soup = BeautifulSoup(html, 'html.parser')\n",
    "            driver.close()\n",
    "            paragraphs = soup.find_all('p')\n",
    "            german_bio = ' '.join(paragraph.text for paragraph in paragraphs).replace('\\n', ' ')\n",
    "            english_bio = ''\n",
    "            bio_list.append([link, german_bio, english_bio])\n",
    "    bio_dataframe = pd.DataFrame.from_records(bio_list)\n",
    "    bio_dataframe = bio_dataframe.rename({0:'Bio Link', 1:'German Bio', 2:'English Bio'}, axis='columns')\n",
    "    return bio_dataframe"
   ]
  },
  {
   "cell_type": "code",
   "execution_count": 6,
   "metadata": {},
   "outputs": [],
   "source": [
    "# Define function to create final, merged, clean dataframe\n",
    "def merger(bishop_dataframe, bio_dataframe):\n",
    "    if not bio_dataframe.empty:\n",
    "        final = pd.merge(bishop_dataframe, bio_dataframe, on='Bio Link', how='left')\n",
    "        final = final.fillna('')\n",
    "    else:\n",
    "        final = bishop_dataframe\n",
    "        final['German Bio'] = ''\n",
    "        final['English Bio'] = ''\n",
    "        final = final.fillna('')\n",
    "    final['Name First Letter'] = ''\n",
    "    final['Bio First Letter'] = ''\n",
    "    final['Name First Letter'] = final['Name'].str.slice(start=0, stop=1)\n",
    "    final['Bio First Letter'] = final['German Bio'].str.slice(start=0, stop=1)\n",
    "    final['Bio Link'] = np.where((final['Name First Letter'] != final['Bio First Letter']),\n",
    "                                 '', final['Bio Link'])\n",
    "    final['German Bio'] = np.where((final['Name First Letter'] != final['Bio First Letter']), \n",
    "                                   '', final['German Bio'])\n",
    "    final = final.drop(columns=['Name First Letter', 'Bio First Letter'])\n",
    "    final = final.drop_duplicates(subset='Name')\n",
    "    final = final[(final['To'] != '') | (final['From'] != '') | (final['Bio Link'] != '')]\n",
    "    return final"
   ]
  },
  {
   "cell_type": "code",
   "execution_count": 7,
   "metadata": {},
   "outputs": [],
   "source": [
    "# Define function to translate German column to English column\n",
    "def translator(dataframe):\n",
    "    for index, row in dataframe.iterrows():\n",
    "        translator = Translator()\n",
    "        try:\n",
    "            english_bio = translator.translate(row['German Bio'], src='de', dest='en').text\n",
    "            row['English Bio'] = english_bio\n",
    "        except Exception as e:\n",
    "            continue\n",
    "    return dataframe"
   ]
  },
  {
   "cell_type": "code",
   "execution_count": 8,
   "metadata": {},
   "outputs": [],
   "source": [
    "# Define function to automate the collection process for a given diocese using above functions\n",
    "def collector(path, url, country, diocese):\n",
    "    bishops = list_collector(path, url)\n",
    "    bishop_dataframe = dataframer(bishops)\n",
    "    bio_dataframe = bio_collector(path, bishop_dataframe)\n",
    "    merged_dataframe = merger(bishop_dataframe, bio_dataframe)\n",
    "    final_dataframe = translator(merged_dataframe)\n",
    "    final_dataframe['Archbishop'] = ''\n",
    "    final_dataframe['Country'] = country\n",
    "    final_dataframe['Diocese'] = diocese\n",
    "    final_dataframe = final_dataframe.set_index(['Country', 'Diocese'])\n",
    "    return final_dataframe"
   ]
  },
  {
   "cell_type": "code",
   "execution_count": 9,
   "metadata": {},
   "outputs": [],
   "source": [
    "# Define function to concatenate dataframes for list of country dioceses\n",
    "def concatenator(path, input_list):\n",
    "    cumulator = collector(path, input_list[0][0], input_list[0][1], input_list[0][2])\n",
    "    for specs in input_list[1:]:\n",
    "        current = collector(path, specs[0], specs[1], specs[2])\n",
    "        cumulator = pd.concat([cumulator, current])\n",
    "    return cumulator   "
   ]
  },
  {
   "cell_type": "code",
   "execution_count": 10,
   "metadata": {},
   "outputs": [],
   "source": [
    "# Define function to export final dataframe to CSV\n",
    "def exportify(dataframe, filename):\n",
    "    csv = dataframe.to_csv(filename)"
   ]
  },
  {
   "cell_type": "markdown",
   "metadata": {},
   "source": [
    "#### Section II: Build & Export CSV files by country"
   ]
  },
  {
   "cell_type": "markdown",
   "metadata": {},
   "source": [
    "*Orion's list of countries: *\n",
    "Albania,\n",
    "Macedonia,\n",
    "Bosnia & Herzegovina,\n",
    "Bulgaria,\n",
    "Croatia,\n",
    "Denmark,\n",
    "Finland,\n",
    "Greece,\n",
    "Hungary,\n",
    "Iceland,\n",
    "Ireland,\n",
    "Latvia,\n",
    "Lithuania"
   ]
  },
  {
   "cell_type": "code",
   "execution_count": 11,
   "metadata": {},
   "outputs": [],
   "source": [
    "mypath = '/Users/orion/Downloads/chromedriver'"
   ]
  },
  {
   "cell_type": "code",
   "execution_count": 12,
   "metadata": {},
   "outputs": [],
   "source": [
    "albania = [['https://de.wikipedia.org/wiki/Liste_der_Bisch%C3%B6fe_von_Lezha', 'Albania', 'Lezha'], \n",
    "           ['https://de.wikipedia.org/wiki/Liste_der_Erzbisch%C3%B6fe_von_Durr%C3%ABs', 'Albania', 'Durres'], \n",
    "           ['https://de.wikipedia.org/wiki/Liste_der_Erzbisch%C3%B6fe_von_Shkodra', 'Albania', 'Shkodra',], \n",
    "           ['https://de.wikipedia.org/wiki/Liste_der_Bisch%C3%B6fe_von_Sapa', 'Albania', 'Sapa']]\n",
    "\n",
    "bosniaherzegovina = [['https://de.wikipedia.org/wiki/Liste_der_Bisch%C3%B6fe_von_Mostar', 'Bosnia & Herzegovina', 'Mostar-Duvno'], \n",
    "                     ['https://de.wikipedia.org/wiki/Liste_der_Bisch%C3%B6fe_von_Bosnien', 'Bosnia & Herzegovina', 'Vrhbosna'], \n",
    "                     ['https://de.wikipedia.org/wiki/Liste_der_Bisch%C3%B6fe_von_Trebinje-Mrkan', 'Bosnia & Herzegovina', 'Trebinje-Mrkan']]\n",
    "\n",
    "bulgaria = [['https://de.wikipedia.org/wiki/Bistum_Nicopolis', 'Bulgaria', 'Nicopolis']]\n",
    "\n",
    "croatia = [['https://de.wikipedia.org/wiki/Liste_der_Bisch%C3%B6fe_von_Dubrovnik', 'Croatia', 'Dubrovnik'], \n",
    "           ['https://de.wikipedia.org/wiki/Liste_der_Bisch%C3%B6fe_und_Erzbisch%C3%B6fe_von_Zagreb', 'Croatia', 'Zagreb'], \n",
    "           ['https://de.wikipedia.org/wiki/Liste_der_Erzbisch%C3%B6fe_von_Zadar', 'Croatia', 'Zadar'], \n",
    "           ['https://de.wikipedia.org/wiki/Liste_der_Bisch%C3%B6fe_von_%C5%A0ibenik', 'Croatia', 'Sibenik'], \n",
    "           ['https://de.wikipedia.org/wiki/Liste_der_Bisch%C3%B6fe_von_Hvar', 'Croatia', 'Hvar'], \n",
    "           ['https://de.wikipedia.org/wiki/Liste_der_Bisch%C3%B6fe_von_Pedena', 'Croatia', 'Pedena'], \n",
    "           ['https://de.wikipedia.org/wiki/Liste_der_Bisch%C3%B6fe_von_Kri%C5%BEevci', 'Croatia', 'Krizevci'], \n",
    "           ['https://de.wikipedia.org/wiki/Liste_der_Bisch%C3%B6fe_von_Pore%C4%8D', 'Croatia', 'Porec'], \n",
    "           ['https://de.wikipedia.org/wiki/Liste_der_Bisch%C3%B6fe_von_Pula', 'Croatia', 'Pula'], \n",
    "           ['https://de.wikipedia.org/wiki/Liste_der_Bisch%C3%B6fe_von_Novigrad', 'Croatia', 'Novigrad'], \n",
    "           ['https://de.wikipedia.org/wiki/Liste_der_Bisch%C3%B6fe_von_Krk', 'Croatia', 'Krk']]\n",
    "\n",
    "denmark = [['https://de.wikipedia.org/wiki/Bistum_Aalborg', 'Denmark', 'Aalborg'], \n",
    "           ['https://de.wikipedia.org/wiki/Liste_der_Bisch%C3%B6fe_von_Aarhus', 'Denmark', 'Aarhus'],\n",
    "           ['https://de.wikipedia.org/wiki/Liste_der_Bisch%C3%B6fe_der_F%C3%A4r%C3%B6er', 'Denmark', 'Faroer'],\n",
    "           ['https://de.wikipedia.org/wiki/Liste_der_Bisch%C3%B6fe_von_F%C3%BCnen', 'Denmark', 'Funen'],\n",
    "           ['https://de.wikipedia.org/wiki/Liste_der_Bisch%C3%B6fe_von_Gr%C3%B6nland', 'Denmark', 'Gronland'],\n",
    "           ['https://de.wikipedia.org/wiki/Liste_der_Bisch%C3%B6fe_von_Roskilde', 'Denmark', 'Roskilde'], \n",
    "           ['https://de.wikipedia.org/wiki/Bistum_Viborg', 'Denmark', 'Viborg']]\n",
    "\n",
    "finland = [['https://de.wikipedia.org/wiki/Liste_der_Erzbisch%C3%B6fe_von_Turku#Bisch%C3%B6fe_von_Turku_2', 'Finland', 'Turku']]\n",
    "\n",
    "greece = [['https://de.wikipedia.org/wiki/Liste_der_Bisch%C3%B6fe_von_Kefalonia', 'Greece', 'Kefalonia'], \n",
    "          ['https://de.wikipedia.org/wiki/Liste_der_Bisch%C3%B6fe_von_Santorini', 'Greece', 'Santorini'], \n",
    "          ['https://de.wikipedia.org/wiki/Liste_der_Erzbisch%C3%B6fe_von_Naxos', 'Greece', 'Naxos'], \n",
    "          ['https://de.wikipedia.org/wiki/Bistum_Tinos', 'Greece', 'Tinos'], \n",
    "          ['https://de.wikipedia.org/wiki/Liste_der_Erzbisch%C3%B6fe_von_Athen', 'Greece', 'Athens'], \n",
    "          ['https://de.wikipedia.org/wiki/Liste_der_Bisch%C3%B6fe_von_Syros', 'Greece', 'Syros'], \n",
    "          ['https://de.wikipedia.org/wiki/Bistum_Milos', 'Greece', 'Milos'], \n",
    "          ['https://de.wikipedia.org/wiki/Liste_der_Bisch%C3%B6fe_von_Kreta', 'Greece', 'Krete'], \n",
    "          ['https://de.wikipedia.org/wiki/Bistum_Andros', 'Greece', 'Andros'], \n",
    "          ['https://de.wikipedia.org/wiki/Liste_der_Erzbisch%C3%B6fe_von_Korfu', 'Greece', 'Korfu'], \n",
    "          ['https://de.wikipedia.org/wiki/Liste_der_Bisch%C3%B6fe_von_Chios', 'Greece', 'Chios']]\n",
    "\n",
    "hungary = [['https://de.wikipedia.org/wiki/Liste_der_Bisch%C3%B6fe_von_Veszpr%C3%A9m', 'Hungary', 'Veszprem'], \n",
    "           ['https://de.wikipedia.org/wiki/Liste_der_Bisch%C3%B6fe_von_V%C3%A1c', 'Hungary', 'Vac'], \n",
    "           ['https://de.wikipedia.org/wiki/Liste_der_Bisch%C3%B6fe_von_Csan%C3%A1d', 'Hungary', 'Szeged-Csanad'], \n",
    "           ['https://de.wikipedia.org/wiki/Liste_der_Bisch%C3%B6fe_von_F%C3%BCnfkirchen', 'Hungary', 'Pecs'], \n",
    "           ['https://de.wikipedia.org/wiki/Liste_der_Erzbisch%C3%B6fe_von_Kalocsa', 'Hungary', 'Kalocsa'], \n",
    "           ['https://de.wikipedia.org/wiki/Liste_der_Bisch%C3%B6fe_von_Gy%C5%91r', 'Hungary', 'Gyor'], \n",
    "           ['https://de.wikipedia.org/wiki/Liste_der_Erzbisch%C3%B6fe_von_Esztergom', 'Hungary', 'Esztergom-Budapest'], \n",
    "           ['https://de.wikipedia.org/wiki/Liste_der_Erzbisch%C3%B6fe_von_Eger', 'Hungary', 'Eger']]\n",
    "\n",
    "iceland = [['https://de.wikipedia.org/wiki/Liste_der_Bisch%C3%B6fe_von_Sk%C3%A1lholt', 'Iceland', 'Skalholt'], \n",
    "           ['https://de.wikipedia.org/wiki/Liste_der_Bisch%C3%B6fe_von_H%C3%B3lar', 'Iceland', 'Holar']]\n",
    "\n",
    "ireland = [['https://de.wikipedia.org/wiki/Liste_der_Bisch%C3%B6fe_von_Waterford_und_Lismore', 'Ireland', 'Waterford & Lismore'], \n",
    "           ['https://de.wikipedia.org/wiki/Liste_der_Erzbisch%C3%B6fe_von_Tuam', 'Ireland', 'Tuam'], \n",
    "           ['https://de.wikipedia.org/wiki/Liste_der_Bisch%C3%B6fe_von_Ross', 'Ireland', 'Ross'], \n",
    "           ['https://de.wikipedia.org/wiki/Liste_der_Bisch%C3%B6fe_von_Raphoe', 'Ireland', 'Raphoe'], \n",
    "           ['https://de.wikipedia.org/wiki/Liste_der_Bisch%C3%B6fe_von_Ossory', 'Ireland', 'Ossory'],\n",
    "           ['https://de.wikipedia.org/wiki/Liste_der_Bisch%C3%B6fe_von_Clonmacnoise', 'Ireland', 'Clonmacnoise'],\n",
    "           ['https://de.wikipedia.org/wiki/Liste_der_Bisch%C3%B6fe_von_Ardagh', 'Ireland', 'Ardagh'],\n",
    "           ['https://de.wikipedia.org/wiki/Liste_der_Bisch%C3%B6fe_von_Limerick', 'Ireland', 'Limerick'],\n",
    "           ['https://de.wikipedia.org/wiki/Liste_der_Bisch%C3%B6fe_von_Cloyne', 'Ireland', 'Cloyne'], \n",
    "           ['https://de.wikipedia.org/wiki/Liste_der_Bisch%C3%B6fe_von_Derry', 'Ireland', 'Derry'], \n",
    "           ['https://de.wikipedia.org/wiki/Liste_der_Bisch%C3%B6fe_von_Connor', 'Ireland', 'Connor'], \n",
    "           ['https://de.wikipedia.org/wiki/Liste_der_Bisch%C3%B6fe_von_Clonfert', 'Ireland', 'Clonfert'], \n",
    "           ['https://de.wikipedia.org/wiki/Liste_der_Bisch%C3%B6fe_von_Clogher', 'Ireland', 'Clogher'], \n",
    "           ['https://de.wikipedia.org/wiki/Bistum_Killaloe', 'Ireland', 'Killaloe'], \n",
    "           ['https://de.wikipedia.org/wiki/Liste_der_Bisch%C3%B6fe_von_Annadown', 'Ireland', 'Annadown'], \n",
    "           ['https://de.wikipedia.org/wiki/Liste_der_Bisch%C3%B6fe_von_Down', 'Ireland', 'Down'], \n",
    "           ['https://de.wikipedia.org/wiki/Liste_der_Bisch%C3%B6fe_von_Ardfert', 'Ireland', 'Ardfert'], \n",
    "           ['https://de.wikipedia.org/wiki/Liste_der_Erzbisch%C3%B6fe_von_Dublin', 'Ireland', 'Dublin'], \n",
    "           ['https://de.wikipedia.org/wiki/Liste_der_Bisch%C3%B6fe_von_Ferns', 'Ireland', 'Ferns'], \n",
    "           ['https://de.wikipedia.org/wiki/Liste_der_Bisch%C3%B6fe_von_Emly', 'Ireland', 'Emly'], \n",
    "           ['https://de.wikipedia.org/wiki/Liste_der_Erzbisch%C3%B6fe_von_Cashel', 'Ireland', 'Cashel'], \n",
    "           ['https://de.wikipedia.org/wiki/Liste_der_Bisch%C3%B6fe_von_Achonry', 'Ireland', 'Achonry']]\n",
    "\n",
    "lithuania = [['https://de.wikipedia.org/wiki/Liste_der_Erzbisch%C3%B6fe_von_Kaunas', 'Lithuania', 'Kaunas'], \n",
    "             ['https://de.wikipedia.org/wiki/Liste_der_Erzbisch%C3%B6fe_von_Vilnius', 'Lithuania', 'Vilnius']]\n",
    "\n",
    "macedonia = [['https://de.wikipedia.org/wiki/Liste_der_Bisch%C3%B6fe_von_Skopje', 'Macedonia', 'Skopje'], \n",
    "             ['https://de.wikipedia.org/wiki/Liste_der_Erzbisch%C3%B6fe_von_Ohrid', 'Macedonia', 'Ohrid']]"
   ]
  },
  {
   "cell_type": "code",
   "execution_count": 359,
   "metadata": {},
   "outputs": [],
   "source": [
    "albania_dataframe = concatenator(mypath, albania)"
   ]
  },
  {
   "cell_type": "code",
   "execution_count": 360,
   "metadata": {},
   "outputs": [],
   "source": [
    "bosniaherzegovina_dataframe = concatenator(mypath, bosniaherzegovina)"
   ]
  },
  {
   "cell_type": "code",
   "execution_count": 361,
   "metadata": {},
   "outputs": [],
   "source": [
    "bulgaria_dataframe = concatenator(mypath, bulgaria)"
   ]
  },
  {
   "cell_type": "code",
   "execution_count": 362,
   "metadata": {},
   "outputs": [],
   "source": [
    "croatia_dataframe = concatenator(mypath, croatia)"
   ]
  },
  {
   "cell_type": "code",
   "execution_count": 363,
   "metadata": {},
   "outputs": [],
   "source": [
    "denmark_dataframe = concatenator(mypath, denmark)"
   ]
  },
  {
   "cell_type": "code",
   "execution_count": 364,
   "metadata": {},
   "outputs": [],
   "source": [
    "finland_dataframe = concatenator(mypath, finland)"
   ]
  },
  {
   "cell_type": "code",
   "execution_count": 365,
   "metadata": {},
   "outputs": [],
   "source": [
    "greece_dataframe = concatenator(mypath, greece)"
   ]
  },
  {
   "cell_type": "code",
   "execution_count": 366,
   "metadata": {},
   "outputs": [],
   "source": [
    "hungary_dataframe = concatenator(mypath, hungary)"
   ]
  },
  {
   "cell_type": "code",
   "execution_count": 367,
   "metadata": {},
   "outputs": [],
   "source": [
    "iceland_dataframe = concatenator(mypath, iceland)"
   ]
  },
  {
   "cell_type": "code",
   "execution_count": 368,
   "metadata": {},
   "outputs": [],
   "source": [
    "ireland_dataframe = concatenator(mypath, ireland)"
   ]
  },
  {
   "cell_type": "code",
   "execution_count": 369,
   "metadata": {},
   "outputs": [],
   "source": [
    "lithuania_dataframe = concatenator(mypath, lithuania)"
   ]
  },
  {
   "cell_type": "code",
   "execution_count": 370,
   "metadata": {},
   "outputs": [],
   "source": [
    "macedonia_dataframe = concatenator(mypath, macedonia)"
   ]
  },
  {
   "cell_type": "code",
   "execution_count": 376,
   "metadata": {},
   "outputs": [],
   "source": [
    "exportify(albania_dataframe, 'albania.csv')\n",
    "exportify(bosniaherzegovina_dataframe, 'bosnia&herzegovina.csv')\n",
    "exportify(bulgaria_dataframe, 'bulgaria.csv')\n",
    "exportify(croatia_dataframe, 'croatia.csv')\n",
    "exportify(denmark_dataframe, 'denmark.csv')\n",
    "exportify(finland_dataframe, 'finland.csv')\n",
    "exportify(greece_dataframe, 'greece.csv')\n",
    "exportify(hungary_dataframe, 'hungary.csv')\n",
    "exportify(iceland_dataframe, 'iceland.csv')\n",
    "exportify(ireland_dataframe, 'ireland.csv')\n",
    "exportify(lithuania_dataframe, 'lithuania.csv')\n",
    "exportify(macedonia_dataframe, 'macedonia.csv')"
   ]
  }
 ],
 "metadata": {
  "kernelspec": {
   "display_name": "Python 3",
   "language": "python",
   "name": "python3"
  },
  "language_info": {
   "codemirror_mode": {
    "name": "ipython",
    "version": 3
   },
   "file_extension": ".py",
   "mimetype": "text/x-python",
   "name": "python",
   "nbconvert_exporter": "python",
   "pygments_lexer": "ipython3",
   "version": "3.6.5"
  }
 },
 "nbformat": 4,
 "nbformat_minor": 2
}
