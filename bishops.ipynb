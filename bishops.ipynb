{
 "cells": [
  {
   "cell_type": "markdown",
   "metadata": {},
   "source": [
    "> Note: Make sure to run `pip install -r requirements.txt` before running so you'll have all the required packages."
   ]
  },
  {
   "cell_type": "code",
   "execution_count": null,
   "metadata": {},
   "outputs": [],
   "source": [
    "!python -m pip install -r requirements.txt"
   ]
  },
  {
   "cell_type": "code",
   "execution_count": 153,
   "metadata": {},
   "outputs": [],
   "source": [
    "import requests\n",
    "from lxml import etree\n",
    "import pandas as pd\n",
    "import re\n",
    "import itertools\n",
    "import json\n",
    "import googletrans\n",
    "from googletrans import Translator"
   ]
  },
  {
   "cell_type": "code",
   "execution_count": 2,
   "metadata": {},
   "outputs": [],
   "source": [
    "range = (325, 1700)\n",
    "is_in_range = lambda x: x >= range[0] and range[1] >= x\n",
    "all_diocese_link = lambda country: \"http://www.catholic-hierarchy.org/country/d{}.html\".format(country)\n",
    "dioces_link = lambda dioces: \"http://www.catholic-hierarchy.org/diocese/{}.html\".format(dioces)"
   ]
  },
  {
   "cell_type": "code",
   "execution_count": 189,
   "metadata": {},
   "outputs": [],
   "source": [
    "countries = [\"Russian Federation\"]\n",
    "translator = Translator()\n",
    "all_countries_url = \"http://www.catholic-hierarchy.org/diocese/qview7.html\"\n",
    "page_string = requests.get(all_countries_url).content\n",
    "tree = etree.HTML(page_string)"
   ]
  },
  {
   "cell_type": "code",
   "execution_count": 190,
   "metadata": {},
   "outputs": [
    {
     "data": {
      "text/plain": [
       "'http://www.catholic-hierarchy.org/country/dru.html'"
      ]
     },
     "execution_count": 190,
     "metadata": {},
     "output_type": "execute_result"
    }
   ],
   "source": [
    "links = tree.cssselect(\"table h2 a\")\n",
    "selected_links = [link for link in links if link.text in countries]\n",
    "country_suffix = re.search(\"/.+/(.+)\\.html\", selected_links[0].get(\"href\")).group(1)\n",
    "diocese_link = all_diocese_link(country_suffix)\n",
    "diocese_link"
   ]
  },
  {
   "cell_type": "code",
   "execution_count": 191,
   "metadata": {},
   "outputs": [],
   "source": [
    "def get_all_diocese_links(countries):\n",
    "    all_countries_url = \"http://www.catholic-hierarchy.org/diocese/qview7.html\"\n",
    "    page_string = requests.get(all_countries_url).content\n",
    "    tree = etree.HTML(page_string)\n",
    "    \n",
    "    all_links = tree.cssselect(\"table h2 a\")\n",
    "    selected_links = [link for link in all_links if link.text in countries]\n",
    "    \n",
    "    country_suffixes = [re.search(\"/.+/(.+)\\.html\", link.get(\"href\")).group(1) for link in selected_links]\n",
    "    country_dioces_links = [all_diocese_link(suffix) for suffix in country_suffixes]\n",
    "    return list(zip(country_dioces_links, countries))"
   ]
  },
  {
   "cell_type": "code",
   "execution_count": 192,
   "metadata": {},
   "outputs": [
    {
     "data": {
      "text/plain": [
       "[('http://www.catholic-hierarchy.org/country/dru.html', 'Russian Federation')]"
      ]
     },
     "execution_count": 192,
     "metadata": {},
     "output_type": "execute_result"
    }
   ],
   "source": [
    "dlinks = get_all_diocese_links(countries)\n",
    "dlinks"
   ]
  },
  {
   "cell_type": "code",
   "execution_count": 193,
   "metadata": {},
   "outputs": [],
   "source": [
    "diocese_page_string = requests.get(diocese_link).content\n",
    "diocese_tree = etree.HTML(diocese_page_string)"
   ]
  },
  {
   "cell_type": "code",
   "execution_count": 194,
   "metadata": {},
   "outputs": [
    {
     "data": {
      "text/plain": [
       "(['dc613',\n",
       "  'dirku',\n",
       "  'dk560',\n",
       "  'dv532',\n",
       "  'dv533',\n",
       "  'dr528',\n",
       "  'dnovo',\n",
       "  'druru',\n",
       "  'dsara',\n",
       "  'dyuzh',\n",
       "  'dl567',\n",
       "  'dm584',\n",
       "  'dmosc'],\n",
       " 'http://www.catholic-hierarchy.org/diocese/dc613.html')"
      ]
     },
     "execution_count": 194,
     "metadata": {},
     "output_type": "execute_result"
    }
   ],
   "source": [
    "diocese_links = list(set([re.search(\"/.+/(.+)\\.html\", link.get(\"href\")).group(1) for link in diocese_tree.xpath(\"/html/body/ul[2]\")[0].cssselect(\"a\")]))\n",
    "diocese_links, dioces_link(diocese_links[0])"
   ]
  },
  {
   "cell_type": "code",
   "execution_count": 4,
   "metadata": {},
   "outputs": [],
   "source": [
    "def get_country_dioces_links(all_dioces_link):\n",
    "    diocese_page_string = requests.get(all_dioces_link).content\n",
    "    diocese_tree = etree.HTML(diocese_page_string)\n",
    "    \n",
    "    diocese_links = list(set([re.search(\"/.+/(.+)\\.html\", link.get(\"href\")).group(1) for link in diocese_tree.xpath(\"/html/body/ul[2]\")[0].cssselect(\"a\")]))\n",
    "    return [dioces_link(link) for link in diocese_links]"
   ]
  },
  {
   "cell_type": "code",
   "execution_count": 41,
   "metadata": {},
   "outputs": [
    {
     "data": {
      "text/plain": [
       "['http://www.catholic-hierarchy.org/diocese/dkoto.html',\n",
       " 'http://www.catholic-hierarchy.org/diocese/db547.html',\n",
       " 'http://www.catholic-hierarchy.org/diocese/dbary.html']"
      ]
     },
     "execution_count": 41,
     "metadata": {},
     "output_type": "execute_result"
    }
   ],
   "source": [
    "d1s = get_country_dioces_links(dlinks[0][0])\n",
    "d1s"
   ]
  },
  {
   "cell_type": "code",
   "execution_count": 43,
   "metadata": {},
   "outputs": [],
   "source": [
    "dioces_string = requests.get(dioces_link(diocese_links[0])).content\n",
    "d_tree = etree.HTML(dioces_string)"
   ]
  },
  {
   "cell_type": "code",
   "execution_count": 44,
   "metadata": {},
   "outputs": [
    {
     "data": {
      "text/plain": [
       "'Kotor (Cattaro)'"
      ]
     },
     "execution_count": 44,
     "metadata": {},
     "output_type": "execute_result"
    }
   ],
   "source": [
    "dioces_name = re.search(\"of (.+)\", d_tree.cssselect(\"h1\")[0].text).group(1).strip()\n",
    "dioces_name"
   ]
  },
  {
   "cell_type": "code",
   "execution_count": 45,
   "metadata": {},
   "outputs": [
    {
     "data": {
      "text/plain": [
       "'Marino Contarini † (10 Jul 1430 Appointed - 19 Nov 1453 Appointed, Bishop of Treviso)'"
      ]
     },
     "execution_count": 45,
     "metadata": {},
     "output_type": "execute_result"
    }
   ],
   "source": [
    "bishops = d_tree.cssselect(\"#d3 li\")\n",
    "bishops = [''.join(bishop.itertext()).strip() for bishop in bishops]\n",
    "bishops[0]"
   ]
  },
  {
   "cell_type": "code",
   "execution_count": 46,
   "metadata": {},
   "outputs": [
    {
     "data": {
      "text/plain": [
       "'10 Jul 1430 Appointed - 19 Nov 1453 Appointed, Bishop of Treviso'"
      ]
     },
     "execution_count": 46,
     "metadata": {},
     "output_type": "execute_result"
    }
   ],
   "source": [
    "parens = re.search(\".+\\((.+)\\)\", bishops[0]).group(1)\n",
    "parens"
   ]
  },
  {
   "cell_type": "code",
   "execution_count": 49,
   "metadata": {},
   "outputs": [
    {
     "data": {
      "text/plain": [
       "1430"
      ]
     },
     "execution_count": 49,
     "metadata": {},
     "output_type": "execute_result"
    }
   ],
   "source": [
    "frm, to = parens.split(\"-\")\n",
    "frm = int(frm.split()[-2])\n",
    "frm"
   ]
  },
  {
   "cell_type": "code",
   "execution_count": 48,
   "metadata": {},
   "outputs": [
    {
     "data": {
      "text/plain": [
       "1453"
      ]
     },
     "execution_count": 48,
     "metadata": {},
     "output_type": "execute_result"
    }
   ],
   "source": [
    "to_splitted = to.split()\n",
    "to = to_splitted[2] if not to_splitted[1].isnumeric() else to_splitted[0]\n",
    "to = int(to)\n",
    "to"
   ]
  },
  {
   "cell_type": "code",
   "execution_count": 53,
   "metadata": {},
   "outputs": [],
   "source": [
    "to = to.strip()"
   ]
  },
  {
   "cell_type": "code",
   "execution_count": 63,
   "metadata": {},
   "outputs": [
    {
     "data": {
      "text/plain": [
       "'19'"
      ]
     },
     "execution_count": 63,
     "metadata": {},
     "output_type": "execute_result"
    }
   ],
   "source": [
    "re.search(\"(\\d+?\\s?\\w?\\s?(\\d+)\", to).group(0)"
   ]
  },
  {
   "cell_type": "code",
   "execution_count": 6,
   "metadata": {},
   "outputs": [],
   "source": [
    "def get_to(to):\n",
    "    to_splitted = to.split()\n",
    "    if len(to_splitted) == 2:\n",
    "        return int(to_splitted[0])\n",
    "    elif len(to_splitted) == 3:\n",
    "        return int(to_splitted[1])\n",
    "    elif len(to_splitted) > 3:\n",
    "        if to_splitted[0].isnumeric() and to_splitted[2].isnumeric():\n",
    "            # then 18 dec 2018\n",
    "            to = int(to_splitted[2])\n",
    "        elif not to_splitted[0].isnumeric() and to_splitted[1].isnumeric():\n",
    "            # then dec 2018\n",
    "            to = int(to_splitted[1])\n",
    "        else:\n",
    "            #then 2018 \n",
    "            to = int(to_splitted[0])\n",
    "\n",
    "    return int(to)\n",
    "\n",
    "def get_from(frm):\n",
    "    from_pos = -2\n",
    "    if \"Ordained\" in frm:\n",
    "        from_pos = -3\n",
    "    return int(frm.split()[from_pos])\n",
    "    \n",
    "def get_dates(bishop_text, i):\n",
    "    parens = re.search(\"\\((.+)\\)\", bishop_text).group(1).strip()\n",
    "    parens_splt = parens.split(\"-\")\n",
    "    if len(parens_splt) > 2:\n",
    "        parens_splt = parens_splt[:2]\n",
    "    \n",
    "    frm, to = parens_splt\n",
    "    frm, to = frm.strip(), to.strip()\n",
    "    \n",
    "    frm = get_from(frm)\n",
    "    \n",
    "    if len(to) == 0:\n",
    "        to = None\n",
    "    elif to == \"Did Not Take Effect\":\n",
    "        frm = None\n",
    "        to = None\n",
    "    else:\n",
    "        to = get_to(to)\n",
    "    \n",
    "    return frm, to"
   ]
  },
  {
   "cell_type": "code",
   "execution_count": null,
   "metadata": {},
   "outputs": [],
   "source": [
    "dates = [get_dates(bishop, i) for i, bishop in enumerate(bishops)]\n",
    "dates"
   ]
  },
  {
   "cell_type": "code",
   "execution_count": 176,
   "metadata": {},
   "outputs": [
    {
     "data": {
      "text/plain": [
       "'Marino Contarini'"
      ]
     },
     "execution_count": 176,
     "metadata": {},
     "output_type": "execute_result"
    }
   ],
   "source": [
    "re.search(\"(.+)\\(\\s?\\d\", bishops[0]).group(1).replace(\"†\",\"\").replace(\", O.P.\", \"\").strip()"
   ]
  },
  {
   "cell_type": "code",
   "execution_count": 184,
   "metadata": {},
   "outputs": [],
   "source": [
    "def get_name(bishop_text):\n",
    "    if \"†\" in bishop_text:\n",
    "        name = re.search(\"(.+)\\s†\", bishop_text).group(1)\n",
    "    else:\n",
    "        name = re.search(\"(.+)\\(\\s?\\d\", bishop_text).group(1)\n",
    "\n",
    "    if \",\" in name:\n",
    "        name = re.search(\"(.+),\", name).group(1)\n",
    "    return name.replace(\"†\",\"\").strip()"
   ]
  },
  {
   "cell_type": "code",
   "execution_count": null,
   "metadata": {},
   "outputs": [],
   "source": [
    "names = [get_name(bishop) for bishop in bishops]\n",
    "names"
   ]
  },
  {
   "cell_type": "code",
   "execution_count": 161,
   "metadata": {},
   "outputs": [
    {
     "data": {
      "text/plain": [
       "'Jan Zamoyski was born on 19 March 1542 to Stanisław Zamoyski and Anna Herburt in Skokówka.[2] He started his education in a school in Krasnystaw but when he was thirteen years old he was sent to study abroad; from 1555 to 1559 he was a page at the royal court in Paris.[3] Already at this young age he attended lectures at the Sorbonne University and Collège de France.[3] In 1559 he briefly visited Poland, then attended the University of Strasbourg; after a few months there he moved to University of Padua, where from 1561 he studied law and received a doctorate in 1564.[2][4] During his years abroad he converted from Calvinism to Roman Catholicism.[4]'"
      ]
     },
     "execution_count": 161,
     "metadata": {},
     "output_type": "execute_result"
    }
   ],
   "source": [
    "t = requests.get(\"https://en.wikipedia.org/w/api.php?action=parse&format=json&prop=text&page=Jan_Zamoyski\")\n",
    "html = t.json()[\"parse\"][\"text\"][\"*\"]\n",
    "tree = etree.HTML(html)\n",
    "\n",
    "translator.translate(\"\".join(tree.cssselect(\".mw-parser-output > p\")[2].itertext()), dest = \"en\").text"
   ]
  },
  {
   "cell_type": "code",
   "execution_count": 206,
   "metadata": {},
   "outputs": [],
   "source": [
    "def get_bio(name, translator):\n",
    "    wiki_suffixes = [\"en\", \"pl\", \"de\", \"ro\", \"ie\", \"sr\", \"si\", \"sk\"]\n",
    "    link = \"https://{}.wikipedia.org/w/api.php?action=parse&format=json&prop=text&redirects=True&page={}\"\n",
    "    \n",
    "    spl = name.split()\n",
    "    n = \"{}_{}\".format(spl[0], spl[-1])\n",
    "    \n",
    "    resps = []\n",
    "    for suffix in wiki_suffixes:\n",
    "        y = requests.get(link.format(suffix, n)).json()\n",
    "        if \"error\" not in list(y.keys()):\n",
    "            resps.append(y)\n",
    "    \n",
    "    if len(resps) > 0:\n",
    "        tree = etree.HTML(resps[0][\"parse\"][\"text\"][\"*\"])\n",
    "        ps = tree.cssselect(\".mw-parser-output > p\")\n",
    "        return translator.translate(\"\" .join([\"\".join(p.itertext()).strip() for p in ps[1:5]]), dest = \"en\").text\n",
    "    else:\n",
    "        return None"
   ]
  },
  {
   "cell_type": "code",
   "execution_count": 166,
   "metadata": {},
   "outputs": [],
   "source": [
    "def get_dioces_info(dioces_link):\n",
    "    dioces_string = requests.get(dioces_link).content\n",
    "    d_tree = etree.HTML(dioces_string)\n",
    "    \n",
    "    dioces_name = re.search(\"of (.+)\", d_tree.cssselect(\"h1\")[0].text).group(1).strip()\n",
    "    \n",
    "    bishops = d_tree.cssselect(\"#d3 li\")\n",
    "    bishops = [''.join(bishop.itertext()).strip() for bishop in bishops]\n",
    "    \n",
    "    names = [get_name(bishop) for bishop in bishops]\n",
    "    dates = [get_dates(bishop, i) for i, bishop in enumerate(bishops)]\n",
    "    \n",
    "    info = []\n",
    "    translator = Translator()\n",
    "    for name, (frm, to) in zip(names, dates):\n",
    "        if (frm is None or (frm >= 325 and frm <= 1700)) and (to is None or (to < 1700 and to >= 325)):\n",
    "            info.append({\n",
    "                \"name\": name,\n",
    "                \"from\": frm,\n",
    "                \"to\": to,\n",
    "                \"diocese\": dioces_name,\n",
    "                \"source_link\": dioces_link,\n",
    "                \"bio\": get_bio(name, translator)\n",
    "            })\n",
    "    \n",
    "    return info"
   ]
  },
  {
   "cell_type": "code",
   "execution_count": null,
   "metadata": {},
   "outputs": [],
   "source": [
    "info = get_dioces_info(d1s[0])\n",
    "info[:5]"
   ]
  },
  {
   "cell_type": "code",
   "execution_count": 198,
   "metadata": {},
   "outputs": [],
   "source": [
    "def get_info(countries):\n",
    "    all_country_diocese_links = get_all_diocese_links(countries)\n",
    "    info = []\n",
    "    for all_country_diocese_link, country in all_country_diocese_links:\n",
    "        dioces_links = get_country_dioces_links(all_country_diocese_link)\n",
    "        for dioces_link in dioces_links:\n",
    "            dioces_bishops = get_dioces_info(dioces_link)\n",
    "            for bishop in dioces_bishops:\n",
    "                bishop[\"country\"] = country\n",
    "            \n",
    "            info += dioces_bishops\n",
    "    return info"
   ]
  },
  {
   "cell_type": "code",
   "execution_count": 204,
   "metadata": {},
   "outputs": [
    {
     "name": "stdout",
     "output_type": "stream",
     "text": [
      "http://www.catholic-hierarchy.org/diocese/dbrby.html\n",
      "http://www.catholic-hierarchy.org/diocese/dspis.html\n",
      "http://www.catholic-hierarchy.org/diocese/dkoby.html\n",
      "http://www.catholic-hierarchy.org/diocese/dkosi.html\n",
      "http://www.catholic-hierarchy.org/diocese/dtrna.html\n",
      "http://www.catholic-hierarchy.org/diocese/dnitr.html\n",
      "http://www.catholic-hierarchy.org/diocese/dprby.html\n",
      "http://www.catholic-hierarchy.org/diocese/dzili.html\n",
      "http://www.catholic-hierarchy.org/diocese/dbrat.html\n",
      "http://www.catholic-hierarchy.org/diocese/dmlsk.html\n",
      "http://www.catholic-hierarchy.org/diocese/drozn.html\n",
      "http://www.catholic-hierarchy.org/diocese/dbaby.html\n"
     ]
    },
    {
     "data": {
      "text/html": [
       "<div>\n",
       "<style scoped>\n",
       "    .dataframe tbody tr th:only-of-type {\n",
       "        vertical-align: middle;\n",
       "    }\n",
       "\n",
       "    .dataframe tbody tr th {\n",
       "        vertical-align: top;\n",
       "    }\n",
       "\n",
       "    .dataframe thead th {\n",
       "        text-align: right;\n",
       "    }\n",
       "</style>\n",
       "<table border=\"1\" class=\"dataframe\">\n",
       "  <thead>\n",
       "    <tr style=\"text-align: right;\">\n",
       "      <th></th>\n",
       "      <th>from</th>\n",
       "      <th>to</th>\n",
       "    </tr>\n",
       "  </thead>\n",
       "  <tbody>\n",
       "    <tr>\n",
       "      <th>count</th>\n",
       "      <td>29.000000</td>\n",
       "      <td>28.000000</td>\n",
       "    </tr>\n",
       "    <tr>\n",
       "      <th>mean</th>\n",
       "      <td>1535.310345</td>\n",
       "      <td>1546.035714</td>\n",
       "    </tr>\n",
       "    <tr>\n",
       "      <th>std</th>\n",
       "      <td>150.913671</td>\n",
       "      <td>150.688662</td>\n",
       "    </tr>\n",
       "    <tr>\n",
       "      <th>min</th>\n",
       "      <td>880.000000</td>\n",
       "      <td>900.000000</td>\n",
       "    </tr>\n",
       "    <tr>\n",
       "      <th>25%</th>\n",
       "      <td>1484.000000</td>\n",
       "      <td>1498.750000</td>\n",
       "    </tr>\n",
       "    <tr>\n",
       "      <th>50%</th>\n",
       "      <td>1550.000000</td>\n",
       "      <td>1569.500000</td>\n",
       "    </tr>\n",
       "    <tr>\n",
       "      <th>75%</th>\n",
       "      <td>1619.000000</td>\n",
       "      <td>1629.250000</td>\n",
       "    </tr>\n",
       "    <tr>\n",
       "      <th>max</th>\n",
       "      <td>1691.000000</td>\n",
       "      <td>1695.000000</td>\n",
       "    </tr>\n",
       "  </tbody>\n",
       "</table>\n",
       "</div>"
      ],
      "text/plain": [
       "              from           to\n",
       "count    29.000000    28.000000\n",
       "mean   1535.310345  1546.035714\n",
       "std     150.913671   150.688662\n",
       "min     880.000000   900.000000\n",
       "25%    1484.000000  1498.750000\n",
       "50%    1550.000000  1569.500000\n",
       "75%    1619.000000  1629.250000\n",
       "max    1691.000000  1695.000000"
      ]
     },
     "execution_count": 204,
     "metadata": {},
     "output_type": "execute_result"
    }
   ],
   "source": [
    "infs = get_info([\"Romania\", \"Montenegro\", \"Ireland\", \"Serbia\", \"Slovenia\", \"Slovakia\"])\n",
    "df = pd.DataFrame(infs)\n",
    "df.describe()"
   ]
  },
  {
   "cell_type": "code",
   "execution_count": 205,
   "metadata": {},
   "outputs": [
    {
     "data": {
      "text/html": [
       "<div>\n",
       "<style scoped>\n",
       "    .dataframe tbody tr th:only-of-type {\n",
       "        vertical-align: middle;\n",
       "    }\n",
       "\n",
       "    .dataframe tbody tr th {\n",
       "        vertical-align: top;\n",
       "    }\n",
       "\n",
       "    .dataframe thead th {\n",
       "        text-align: right;\n",
       "    }\n",
       "</style>\n",
       "<table border=\"1\" class=\"dataframe\">\n",
       "  <thead>\n",
       "    <tr style=\"text-align: right;\">\n",
       "      <th></th>\n",
       "      <th>bio</th>\n",
       "      <th>country</th>\n",
       "      <th>diocese</th>\n",
       "      <th>from</th>\n",
       "      <th>name</th>\n",
       "      <th>source_link</th>\n",
       "      <th>to</th>\n",
       "    </tr>\n",
       "  </thead>\n",
       "  <tbody>\n",
       "    <tr>\n",
       "      <th>0</th>\n",
       "      <td>None</td>\n",
       "      <td>Slovakia</td>\n",
       "      <td>Nitra</td>\n",
       "      <td>880</td>\n",
       "      <td>Wiching</td>\n",
       "      <td>http://www.catholic-hierarchy.org/diocese/dnit...</td>\n",
       "      <td>900.0</td>\n",
       "    </tr>\n",
       "    <tr>\n",
       "      <th>1</th>\n",
       "      <td>He was born into a magnate family as the son N...</td>\n",
       "      <td>Slovakia</td>\n",
       "      <td>Nitra</td>\n",
       "      <td>1438</td>\n",
       "      <td>Dénes Szécsi</td>\n",
       "      <td>http://www.catholic-hierarchy.org/diocese/dnit...</td>\n",
       "      <td>1439.0</td>\n",
       "    </tr>\n",
       "    <tr>\n",
       "      <th>2</th>\n",
       "      <td>None</td>\n",
       "      <td>Slovakia</td>\n",
       "      <td>Nitra</td>\n",
       "      <td>1440</td>\n",
       "      <td>Ladislav Bebek de Csetnek</td>\n",
       "      <td>http://www.catholic-hierarchy.org/diocese/dnit...</td>\n",
       "      <td>1447.0</td>\n",
       "    </tr>\n",
       "    <tr>\n",
       "      <th>3</th>\n",
       "      <td>None</td>\n",
       "      <td>Slovakia</td>\n",
       "      <td>Nitra</td>\n",
       "      <td>1449</td>\n",
       "      <td>Miklós</td>\n",
       "      <td>http://www.catholic-hierarchy.org/diocese/dnit...</td>\n",
       "      <td>1456.0</td>\n",
       "    </tr>\n",
       "    <tr>\n",
       "      <th>4</th>\n",
       "      <td>None</td>\n",
       "      <td>Slovakia</td>\n",
       "      <td>Nitra</td>\n",
       "      <td>1458</td>\n",
       "      <td>Albert Hangácsi</td>\n",
       "      <td>http://www.catholic-hierarchy.org/diocese/dnit...</td>\n",
       "      <td>1458.0</td>\n",
       "    </tr>\n",
       "    <tr>\n",
       "      <th>5</th>\n",
       "      <td>None</td>\n",
       "      <td>Slovakia</td>\n",
       "      <td>Nitra</td>\n",
       "      <td>1460</td>\n",
       "      <td>Elias</td>\n",
       "      <td>http://www.catholic-hierarchy.org/diocese/dnit...</td>\n",
       "      <td>NaN</td>\n",
       "    </tr>\n",
       "    <tr>\n",
       "      <th>6</th>\n",
       "      <td>None</td>\n",
       "      <td>Slovakia</td>\n",
       "      <td>Nitra</td>\n",
       "      <td>1463</td>\n",
       "      <td>Thomas de Debrenthe (Branche)</td>\n",
       "      <td>http://www.catholic-hierarchy.org/diocese/dnit...</td>\n",
       "      <td>1484.0</td>\n",
       "    </tr>\n",
       "    <tr>\n",
       "      <th>7</th>\n",
       "      <td>None</td>\n",
       "      <td>Slovakia</td>\n",
       "      <td>Nitra</td>\n",
       "      <td>1484</td>\n",
       "      <td>Gregor</td>\n",
       "      <td>http://www.catholic-hierarchy.org/diocese/dnit...</td>\n",
       "      <td>1492.0</td>\n",
       "    </tr>\n",
       "    <tr>\n",
       "      <th>8</th>\n",
       "      <td>None</td>\n",
       "      <td>Slovakia</td>\n",
       "      <td>Nitra</td>\n",
       "      <td>1493</td>\n",
       "      <td>Anton von Sankfalva</td>\n",
       "      <td>http://www.catholic-hierarchy.org/diocese/dnit...</td>\n",
       "      <td>1501.0</td>\n",
       "    </tr>\n",
       "    <tr>\n",
       "      <th>9</th>\n",
       "      <td>None</td>\n",
       "      <td>Slovakia</td>\n",
       "      <td>Nitra</td>\n",
       "      <td>1501</td>\n",
       "      <td>Mikuláš Csáky (de Bačka)</td>\n",
       "      <td>http://www.catholic-hierarchy.org/diocese/dnit...</td>\n",
       "      <td>1503.0</td>\n",
       "    </tr>\n",
       "    <tr>\n",
       "      <th>10</th>\n",
       "      <td>None</td>\n",
       "      <td>Slovakia</td>\n",
       "      <td>Nitra</td>\n",
       "      <td>1503</td>\n",
       "      <td>Zsigmond Thurzó</td>\n",
       "      <td>http://www.catholic-hierarchy.org/diocese/dnit...</td>\n",
       "      <td>1504.0</td>\n",
       "    </tr>\n",
       "    <tr>\n",
       "      <th>11</th>\n",
       "      <td>None</td>\n",
       "      <td>Slovakia</td>\n",
       "      <td>Nitra</td>\n",
       "      <td>1505</td>\n",
       "      <td>István</td>\n",
       "      <td>http://www.catholic-hierarchy.org/diocese/dnit...</td>\n",
       "      <td>1512.0</td>\n",
       "    </tr>\n",
       "    <tr>\n",
       "      <th>12</th>\n",
       "      <td>None</td>\n",
       "      <td>Slovakia</td>\n",
       "      <td>Nitra</td>\n",
       "      <td>1512</td>\n",
       "      <td>István Podmanický</td>\n",
       "      <td>http://www.catholic-hierarchy.org/diocese/dnit...</td>\n",
       "      <td>1530.0</td>\n",
       "    </tr>\n",
       "    <tr>\n",
       "      <th>13</th>\n",
       "      <td>By establishing \"The Common Hungarian Trade\" (...</td>\n",
       "      <td>Slovakia</td>\n",
       "      <td>Nitra</td>\n",
       "      <td>1530</td>\n",
       "      <td>János Thurzó</td>\n",
       "      <td>http://www.catholic-hierarchy.org/diocese/dnit...</td>\n",
       "      <td>1550.0</td>\n",
       "    </tr>\n",
       "    <tr>\n",
       "      <th>14</th>\n",
       "      <td>None</td>\n",
       "      <td>Slovakia</td>\n",
       "      <td>Nitra</td>\n",
       "      <td>1550</td>\n",
       "      <td>Ferenc Thurzó</td>\n",
       "      <td>http://www.catholic-hierarchy.org/diocese/dnit...</td>\n",
       "      <td>1560.0</td>\n",
       "    </tr>\n",
       "    <tr>\n",
       "      <th>15</th>\n",
       "      <td>None</td>\n",
       "      <td>Slovakia</td>\n",
       "      <td>Nitra</td>\n",
       "      <td>1560</td>\n",
       "      <td>Pál Bornemissza</td>\n",
       "      <td>http://www.catholic-hierarchy.org/diocese/dnit...</td>\n",
       "      <td>1579.0</td>\n",
       "    </tr>\n",
       "    <tr>\n",
       "      <th>16</th>\n",
       "      <td>None</td>\n",
       "      <td>Slovakia</td>\n",
       "      <td>Nitra</td>\n",
       "      <td>1583</td>\n",
       "      <td>Zakariás Mossóczy</td>\n",
       "      <td>http://www.catholic-hierarchy.org/diocese/dnit...</td>\n",
       "      <td>1586.0</td>\n",
       "    </tr>\n",
       "    <tr>\n",
       "      <th>17</th>\n",
       "      <td>None</td>\n",
       "      <td>Slovakia</td>\n",
       "      <td>Nitra</td>\n",
       "      <td>1587</td>\n",
       "      <td>István Fejérkövy</td>\n",
       "      <td>http://www.catholic-hierarchy.org/diocese/dnit...</td>\n",
       "      <td>1596.0</td>\n",
       "    </tr>\n",
       "    <tr>\n",
       "      <th>18</th>\n",
       "      <td>None</td>\n",
       "      <td>Slovakia</td>\n",
       "      <td>Nitra</td>\n",
       "      <td>1599</td>\n",
       "      <td>Ferenc Forgách de Ghymes</td>\n",
       "      <td>http://www.catholic-hierarchy.org/diocese/dnit...</td>\n",
       "      <td>1607.0</td>\n",
       "    </tr>\n",
       "    <tr>\n",
       "      <th>19</th>\n",
       "      <td>None</td>\n",
       "      <td>Slovakia</td>\n",
       "      <td>Nitra</td>\n",
       "      <td>1607</td>\n",
       "      <td>István Szuhay</td>\n",
       "      <td>http://www.catholic-hierarchy.org/diocese/dnit...</td>\n",
       "      <td>1608.0</td>\n",
       "    </tr>\n",
       "    <tr>\n",
       "      <th>20</th>\n",
       "      <td>None</td>\n",
       "      <td>Slovakia</td>\n",
       "      <td>Nitra</td>\n",
       "      <td>1609</td>\n",
       "      <td>Valentin Lépes</td>\n",
       "      <td>http://www.catholic-hierarchy.org/diocese/dnit...</td>\n",
       "      <td>1619.0</td>\n",
       "    </tr>\n",
       "    <tr>\n",
       "      <th>21</th>\n",
       "      <td>János Telegdy was born in Érsekújvár, Kingdom ...</td>\n",
       "      <td>Slovakia</td>\n",
       "      <td>Nitra</td>\n",
       "      <td>1619</td>\n",
       "      <td>János Telegdy</td>\n",
       "      <td>http://www.catholic-hierarchy.org/diocese/dnit...</td>\n",
       "      <td>1623.0</td>\n",
       "    </tr>\n",
       "    <tr>\n",
       "      <th>22</th>\n",
       "      <td>None</td>\n",
       "      <td>Slovakia</td>\n",
       "      <td>Nitra</td>\n",
       "      <td>1645</td>\n",
       "      <td>Giovanni Pusky</td>\n",
       "      <td>http://www.catholic-hierarchy.org/diocese/dnit...</td>\n",
       "      <td>1648.0</td>\n",
       "    </tr>\n",
       "    <tr>\n",
       "      <th>23</th>\n",
       "      <td>None</td>\n",
       "      <td>Slovakia</td>\n",
       "      <td>Nitra</td>\n",
       "      <td>1652</td>\n",
       "      <td>György Szelepcsényi</td>\n",
       "      <td>http://www.catholic-hierarchy.org/diocese/dnit...</td>\n",
       "      <td>1667.0</td>\n",
       "    </tr>\n",
       "    <tr>\n",
       "      <th>24</th>\n",
       "      <td>None</td>\n",
       "      <td>Slovakia</td>\n",
       "      <td>Nitra</td>\n",
       "      <td>1668</td>\n",
       "      <td>Leopold Karl von Kollonitsch Lipót</td>\n",
       "      <td>http://www.catholic-hierarchy.org/diocese/dnit...</td>\n",
       "      <td>1670.0</td>\n",
       "    </tr>\n",
       "    <tr>\n",
       "      <th>25</th>\n",
       "      <td>None</td>\n",
       "      <td>Slovakia</td>\n",
       "      <td>Nitra</td>\n",
       "      <td>1671</td>\n",
       "      <td>Tomáš Pállfy ab Erdöd</td>\n",
       "      <td>http://www.catholic-hierarchy.org/diocese/dnit...</td>\n",
       "      <td>1679.0</td>\n",
       "    </tr>\n",
       "    <tr>\n",
       "      <th>26</th>\n",
       "      <td>None</td>\n",
       "      <td>Slovakia</td>\n",
       "      <td>Nitra</td>\n",
       "      <td>1680</td>\n",
       "      <td>Ján Gubasóczy (Gubašóci)</td>\n",
       "      <td>http://www.catholic-hierarchy.org/diocese/dnit...</td>\n",
       "      <td>1686.0</td>\n",
       "    </tr>\n",
       "    <tr>\n",
       "      <th>27</th>\n",
       "      <td>None</td>\n",
       "      <td>Slovakia</td>\n",
       "      <td>Nitra</td>\n",
       "      <td>1687</td>\n",
       "      <td>Péter Korompay</td>\n",
       "      <td>http://www.catholic-hierarchy.org/diocese/dnit...</td>\n",
       "      <td>1690.0</td>\n",
       "    </tr>\n",
       "    <tr>\n",
       "      <th>28</th>\n",
       "      <td>None</td>\n",
       "      <td>Slovakia</td>\n",
       "      <td>Nitra</td>\n",
       "      <td>1691</td>\n",
       "      <td>Blažej Jáklin</td>\n",
       "      <td>http://www.catholic-hierarchy.org/diocese/dnit...</td>\n",
       "      <td>1695.0</td>\n",
       "    </tr>\n",
       "  </tbody>\n",
       "</table>\n",
       "</div>"
      ],
      "text/plain": [
       "                                                  bio   country diocese  from  \\\n",
       "0                                                None  Slovakia   Nitra   880   \n",
       "1   He was born into a magnate family as the son N...  Slovakia   Nitra  1438   \n",
       "2                                                None  Slovakia   Nitra  1440   \n",
       "3                                                None  Slovakia   Nitra  1449   \n",
       "4                                                None  Slovakia   Nitra  1458   \n",
       "5                                                None  Slovakia   Nitra  1460   \n",
       "6                                                None  Slovakia   Nitra  1463   \n",
       "7                                                None  Slovakia   Nitra  1484   \n",
       "8                                                None  Slovakia   Nitra  1493   \n",
       "9                                                None  Slovakia   Nitra  1501   \n",
       "10                                               None  Slovakia   Nitra  1503   \n",
       "11                                               None  Slovakia   Nitra  1505   \n",
       "12                                               None  Slovakia   Nitra  1512   \n",
       "13  By establishing \"The Common Hungarian Trade\" (...  Slovakia   Nitra  1530   \n",
       "14                                               None  Slovakia   Nitra  1550   \n",
       "15                                               None  Slovakia   Nitra  1560   \n",
       "16                                               None  Slovakia   Nitra  1583   \n",
       "17                                               None  Slovakia   Nitra  1587   \n",
       "18                                               None  Slovakia   Nitra  1599   \n",
       "19                                               None  Slovakia   Nitra  1607   \n",
       "20                                               None  Slovakia   Nitra  1609   \n",
       "21  János Telegdy was born in Érsekújvár, Kingdom ...  Slovakia   Nitra  1619   \n",
       "22                                               None  Slovakia   Nitra  1645   \n",
       "23                                               None  Slovakia   Nitra  1652   \n",
       "24                                               None  Slovakia   Nitra  1668   \n",
       "25                                               None  Slovakia   Nitra  1671   \n",
       "26                                               None  Slovakia   Nitra  1680   \n",
       "27                                               None  Slovakia   Nitra  1687   \n",
       "28                                               None  Slovakia   Nitra  1691   \n",
       "\n",
       "                                  name  \\\n",
       "0                              Wiching   \n",
       "1                         Dénes Szécsi   \n",
       "2            Ladislav Bebek de Csetnek   \n",
       "3                               Miklós   \n",
       "4                      Albert Hangácsi   \n",
       "5                                Elias   \n",
       "6        Thomas de Debrenthe (Branche)   \n",
       "7                               Gregor   \n",
       "8                  Anton von Sankfalva   \n",
       "9             Mikuláš Csáky (de Bačka)   \n",
       "10                     Zsigmond Thurzó   \n",
       "11                              István   \n",
       "12                   István Podmanický   \n",
       "13                        János Thurzó   \n",
       "14                       Ferenc Thurzó   \n",
       "15                     Pál Bornemissza   \n",
       "16                   Zakariás Mossóczy   \n",
       "17                    István Fejérkövy   \n",
       "18            Ferenc Forgách de Ghymes   \n",
       "19                       István Szuhay   \n",
       "20                      Valentin Lépes   \n",
       "21                       János Telegdy   \n",
       "22                      Giovanni Pusky   \n",
       "23                 György Szelepcsényi   \n",
       "24  Leopold Karl von Kollonitsch Lipót   \n",
       "25               Tomáš Pállfy ab Erdöd   \n",
       "26            Ján Gubasóczy (Gubašóci)   \n",
       "27                      Péter Korompay   \n",
       "28                       Blažej Jáklin   \n",
       "\n",
       "                                          source_link      to  \n",
       "0   http://www.catholic-hierarchy.org/diocese/dnit...   900.0  \n",
       "1   http://www.catholic-hierarchy.org/diocese/dnit...  1439.0  \n",
       "2   http://www.catholic-hierarchy.org/diocese/dnit...  1447.0  \n",
       "3   http://www.catholic-hierarchy.org/diocese/dnit...  1456.0  \n",
       "4   http://www.catholic-hierarchy.org/diocese/dnit...  1458.0  \n",
       "5   http://www.catholic-hierarchy.org/diocese/dnit...     NaN  \n",
       "6   http://www.catholic-hierarchy.org/diocese/dnit...  1484.0  \n",
       "7   http://www.catholic-hierarchy.org/diocese/dnit...  1492.0  \n",
       "8   http://www.catholic-hierarchy.org/diocese/dnit...  1501.0  \n",
       "9   http://www.catholic-hierarchy.org/diocese/dnit...  1503.0  \n",
       "10  http://www.catholic-hierarchy.org/diocese/dnit...  1504.0  \n",
       "11  http://www.catholic-hierarchy.org/diocese/dnit...  1512.0  \n",
       "12  http://www.catholic-hierarchy.org/diocese/dnit...  1530.0  \n",
       "13  http://www.catholic-hierarchy.org/diocese/dnit...  1550.0  \n",
       "14  http://www.catholic-hierarchy.org/diocese/dnit...  1560.0  \n",
       "15  http://www.catholic-hierarchy.org/diocese/dnit...  1579.0  \n",
       "16  http://www.catholic-hierarchy.org/diocese/dnit...  1586.0  \n",
       "17  http://www.catholic-hierarchy.org/diocese/dnit...  1596.0  \n",
       "18  http://www.catholic-hierarchy.org/diocese/dnit...  1607.0  \n",
       "19  http://www.catholic-hierarchy.org/diocese/dnit...  1608.0  \n",
       "20  http://www.catholic-hierarchy.org/diocese/dnit...  1619.0  \n",
       "21  http://www.catholic-hierarchy.org/diocese/dnit...  1623.0  \n",
       "22  http://www.catholic-hierarchy.org/diocese/dnit...  1648.0  \n",
       "23  http://www.catholic-hierarchy.org/diocese/dnit...  1667.0  \n",
       "24  http://www.catholic-hierarchy.org/diocese/dnit...  1670.0  \n",
       "25  http://www.catholic-hierarchy.org/diocese/dnit...  1679.0  \n",
       "26  http://www.catholic-hierarchy.org/diocese/dnit...  1686.0  \n",
       "27  http://www.catholic-hierarchy.org/diocese/dnit...  1690.0  \n",
       "28  http://www.catholic-hierarchy.org/diocese/dnit...  1695.0  "
      ]
     },
     "execution_count": 205,
     "metadata": {},
     "output_type": "execute_result"
    }
   ],
   "source": [
    "df"
   ]
  },
  {
   "cell_type": "markdown",
   "metadata": {},
   "source": [
    "TODO:\n",
    "- keep a list of when each diocese was erected. if we have diocese where the earliest bishop's start year is > erecrected year, go out to the country's wiki page and get the missing bishops. ex: https://ro.wikipedia.org/wiki/Lista_episcopilor_romano-catolici_ai_Transilvaniei (Romania, Alba Iulia)"
   ]
  }
 ],
 "metadata": {
  "kernelspec": {
   "display_name": "Python 3",
   "language": "python",
   "name": "python3"
  },
  "language_info": {
   "codemirror_mode": {
    "name": "ipython",
    "version": 3
   },
   "file_extension": ".py",
   "mimetype": "text/x-python",
   "name": "python",
   "nbconvert_exporter": "python",
   "pygments_lexer": "ipython3",
   "version": "3.7.1"
  }
 },
 "nbformat": 4,
 "nbformat_minor": 2
}
