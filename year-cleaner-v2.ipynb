{
 "cells": [
  {
   "cell_type": "code",
   "execution_count": 276,
   "metadata": {},
   "outputs": [],
   "source": [
    "import numpy as np\n",
    "import pandas as pd\n",
    "import re\n",
    "pd.set_option('display.max_rows', 3000)"
   ]
  },
  {
   "cell_type": "code",
   "execution_count": 277,
   "metadata": {},
   "outputs": [],
   "source": [
    "bishops = pd.read_csv('/users/Orion/NYU/bishop-scraper/european-bishops-wiki-scraper/bishops.csv')"
   ]
  },
  {
   "cell_type": "code",
   "execution_count": 278,
   "metadata": {},
   "outputs": [],
   "source": [
    "bishops['From'] = bishops['From'].str.extract('([0123456789/]+)', expand=False)\n",
    "bishops['To'] = bishops['To'].str.extract('([0123456789/]+)', expand=False)"
   ]
  },
  {
   "cell_type": "code",
   "execution_count": 279,
   "metadata": {},
   "outputs": [],
   "source": [
    "new1 = bishops['From'].str.split('/', expand=True)\n",
    "bishops['From1'] = new1[0]\n",
    "bishops['From2'] = new1[1]\n",
    "new2 = bishops['To'].str.split('/', expand=True)\n",
    "bishops['To1'] = new2[0]\n",
    "bishops['To2'] = new2[1]"
   ]
  },
  {
   "cell_type": "code",
   "execution_count": 280,
   "metadata": {},
   "outputs": [],
   "source": [
    "bishops['To'] = np.where((bishops['From1'].notnull() & bishops['From2'].notnull() & \n",
    "                          bishops['To1'].isnull() & bishops['To2'].isnull()), bishops['From2'], bishops['To'])\n",
    "bishops['From'] = np.where((bishops['To1'].notnull() & bishops['To2'].notnull() & \n",
    "                          bishops['From1'].isnull() & bishops['From2'].isnull()), bishops['To1'], bishops['From'])\n",
    "bishops['From'] = np.where((bishops['From1'].notnull() & bishops['From2'].notnull() & \n",
    "                          bishops['To'].notnull()), bishops['From1'], bishops['From'])\n",
    "bishops['To'] = np.where((bishops['To1'].notnull() & bishops['To2'].notnull() & \n",
    "                          bishops['From'].notnull()), bishops['To2'], bishops['To'])\n",
    "bishops = bishops.drop(columns=['From1', 'From2', 'To1', 'To2'])"
   ]
  },
  {
   "cell_type": "code",
   "execution_count": 281,
   "metadata": {},
   "outputs": [],
   "source": [
    "bishops['From'] = bishops['From'].astype('str')\n",
    "bishops['To'] = bishops['To'].astype('str')\n",
    "bishops['To'] = np.where(bishops['To'] == '0', np.nan, bishops['To'])\n",
    "bishops['To'] = np.where(bishops['To'].str[0:2] == bishops['From'].str[0:2], np.nan, bishops['To'])\n",
    "bishops['From'] = np.where(bishops['From'].str[0:2] == bishops['To'].str[0:2], np.nan, bishops['From'])\n",
    "bishops['To'] = np.where((bishops['To'].str.len() == 2) & (bishops['From'].str.len() == 4), bishops['From'].str[0:2]+bishops['To'], bishops['To'])\n",
    "bishops['To'] = np.where((bishops['To'].str.len() == 1) & (bishops['From'].str.len() == 4), bishops['From'].str[0:3]+bishops['To'], bishops['To'])\n",
    "bishops['To'] = np.where((bishops['To'].str.len() == 1) & (bishops['From'].str.len() == 3), bishops['From'].str[0:2]+bishops['To'], bishops['To'])\n",
    "bishops['From'] = np.where((bishops['From'].str.len() < 3) & (bishops['To'].str.isdigit() == False), np.nan, bishops['From'])"
   ]
  },
  {
   "cell_type": "code",
   "execution_count": 283,
   "metadata": {},
   "outputs": [],
   "source": [
    "bishops = bishops.replace('nan', np.nan)"
   ]
  },
  {
   "cell_type": "code",
   "execution_count": 287,
   "metadata": {},
   "outputs": [],
   "source": [
    "bishops_cleaned_years = bishops.to_csv('bishops_cleaned_years.csv')"
   ]
  }
 ],
 "metadata": {
  "kernelspec": {
   "display_name": "Python 3",
   "language": "python",
   "name": "python3"
  },
  "language_info": {
   "codemirror_mode": {
    "name": "ipython",
    "version": 3
   },
   "file_extension": ".py",
   "mimetype": "text/x-python",
   "name": "python",
   "nbconvert_exporter": "python",
   "pygments_lexer": "ipython3",
   "version": "3.6.5"
  }
 },
 "nbformat": 4,
 "nbformat_minor": 2
}
